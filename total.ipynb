{
 "cells": [
  {
   "cell_type": "code",
   "execution_count": 17,
   "metadata": {},
   "outputs": [
    {
     "name": "stdout",
     "output_type": "stream",
     "text": [
      "enter number 56\n",
      "enter a numeral value\n"
     ]
    }
   ],
   "source": [
    "try:\n",
    "    if n!='done':\n",
    "        while n!='done':\n",
    "            n=eval(input(\"enter number \"))\n",
    "            add=add+n\n",
    "            m=m+1\n",
    "    else :\n",
    "        print('total',add)\n",
    "        print('average=',add/m)\n",
    "except:\n",
    "    print(\"enter a numeral value\")\n",
    "        "
   ]
  },
  {
   "cell_type": "code",
   "execution_count": null,
   "metadata": {},
   "outputs": [],
   "source": []
  }
 ],
 "metadata": {
  "kernelspec": {
   "display_name": "Python 3",
   "language": "python",
   "name": "python3"
  },
  "language_info": {
   "codemirror_mode": {
    "name": "ipython",
    "version": 3
   },
   "file_extension": ".py",
   "mimetype": "text/x-python",
   "name": "python",
   "nbconvert_exporter": "python",
   "pygments_lexer": "ipython3",
   "version": "3.7.3"
  }
 },
 "nbformat": 4,
 "nbformat_minor": 2
}
