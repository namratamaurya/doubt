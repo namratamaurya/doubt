{
 "cells": [
  {
   "cell_type": "code",
   "execution_count": 11,
   "metadata": {},
   "outputs": [
    {
     "name": "stdout",
     "output_type": "stream",
     "text": [
      "enter hour 45\n",
      "enter rate 10\n",
      "enter a numeral value\n"
     ]
    }
   ],
   "source": [
    "try:\n",
    "    hr=input(\"enter hour \")\n",
    "    rate=input(\"enter rate \")\n",
    "    if hr>40:\n",
    "        pay=hr*rate*1.5\n",
    "    else:\n",
    "        pay=hr*rate\n",
    "    print('pay=',pay)\n",
    "except:\n",
    "    print(\"enter a numeral value\")"
   ]
  },
  {
   "cell_type": "code",
   "execution_count": null,
   "metadata": {},
   "outputs": [],
   "source": []
  }
 ],
 "metadata": {
  "kernelspec": {
   "display_name": "Python 3",
   "language": "python",
   "name": "python3"
  },
  "language_info": {
   "codemirror_mode": {
    "name": "ipython",
    "version": 3
   },
   "file_extension": ".py",
   "mimetype": "text/x-python",
   "name": "python",
   "nbconvert_exporter": "python",
   "pygments_lexer": "ipython3",
   "version": "3.7.3"
  }
 },
 "nbformat": 4,
 "nbformat_minor": 2
}
